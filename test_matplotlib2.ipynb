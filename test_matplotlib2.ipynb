{
 "cells": [
  {
   "cell_type": "markdown",
   "metadata": {},
   "source": [
    "# Making multipanel plots with matplotlib\n",
    "\n",
    "First, we import numpy and matplotlib as usual"
   ]
  },
  {
   "cell_type": "code",
   "execution_count": null,
   "metadata": {},
   "outputs": [],
   "source": [
    "%matplotlib inline\n",
    "import numpy as np\n",
    "import matplotlib.pyplot as plt"
   ]
  },
  {
   "cell_type": "markdown",
   "metadata": {},
   "source": [
    "Then we define an array of angles, and their sines and cosines using numpy. This time we will use linespace."
   ]
  },
  {
   "cell_type": "code",
   "execution_count": null,
   "metadata": {},
   "outputs": [],
   "source": [
    "x = np.linspace(0,2*np.pi,100)\n",
    "print(x[-1], 2*np.pi)\n",
    "\n",
    "y = np.sin(x)\n",
    "z = np.cos(x)\n",
    "w = np.sin(4*x)\n",
    "v = np.cos(4*x)"
   ]
  },
  {
   "cell_type": "code",
   "execution_count": null,
   "metadata": {},
   "outputs": [],
   "source": [
    "#call subplots to generate a multipanel figure. Thsi means 1 row, 2 columns of figures\n",
    "f, axarr = plt.subplots(1,2)\n",
    "\n",
    "#treat axarr as an array, from left to right\n",
    "\n",
    "#first panel\n",
    "axarr[0].plot(x,y)\n",
    "axarr[0].set_xlabel('x')\n",
    "axarr[0].set_ylabel('sin(x)')\n",
    "axarr[0].set_title(r'$\\sin(x)$')\n",
    "#second panel\n",
    "axarr[1].plot(x,z)\n",
    "axarr[1].set_xlabel('x')\n",
    "axarr[1].set_ylabel('cos(x)')\n",
    "axarr[1].set_title(r'$\\cos(x)$')\n",
    "\n",
    "#add more space between the figures\n",
    "f.subplots_adjust(wspace=0.5)\n",
    "\n",
    "#fix the axis ratio\n",
    "#here are two possible options\n",
    "axarr[0].set_aspect('equal')   #make the ratio of the tick units equal, a bit counter intuitive\n",
    "axarr[1].set_aspect(np.pi)     #make a square by setting the aspect to be the ratio of the tick unit range\n",
    "\n",
    "plt.plot(x, y, label=r'$y = \\sin(x)$')   #add label to the line\n",
    "plt.plot(x, z, label=r'$y = \\cos(x)$')   #add label to the line\n",
    "plt.plot(x, w, label=r'$y = \\sin(4x)$')   #add label to the line\n",
    "plt.plot(x, v, label=r'$y = \\cos(4x)$')   #add label to the line\n",
    "\n",
    "plt.xlabel('x')\n",
    "plt.ylabel('f(x)')\n",
    "plt.xlim([0,2*np.pi])\n",
    "plt.ylim([-1.2,1.2])\n",
    "plt.legend(loc=1,framealpha=0.95)\n",
    "\n",
    "#fix the axis ratio\n",
    "plt.gca().set_aspect(np.pi/1.2)   #use \"gca\" to get current axis()\n",
    "\n",
    "#fix this later to match slides and add markdown comments"
   ]
  },
  {
   "cell_type": "code",
   "execution_count": null,
   "metadata": {},
   "outputs": [],
   "source": []
  },
  {
   "cell_type": "code",
   "execution_count": null,
   "metadata": {},
   "outputs": [],
   "source": []
  }
 ],
 "metadata": {
  "kernelspec": {
   "display_name": "Python 3",
   "language": "python",
   "name": "python3"
  },
  "language_info": {
   "codemirror_mode": {
    "name": "ipython",
    "version": 3
   },
   "file_extension": ".py",
   "mimetype": "text/x-python",
   "name": "python",
   "nbconvert_exporter": "python",
   "pygments_lexer": "ipython3",
   "version": "3.6.5"
  }
 },
 "nbformat": 4,
 "nbformat_minor": 2
}
